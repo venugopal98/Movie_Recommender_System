{
 "cells": [
  {
   "cell_type": "code",
   "execution_count": 1,
   "source": [
    "# importing libraries\r\n",
    "\r\n",
    "import os\r\n",
    "import ast\r\n",
    "\r\n",
    "import pandas as pd\r\n",
    "import numpy as np\r\n",
    "\r\n",
    "from sklearn.feature_extraction.text import CountVectorizer\r\n",
    "from sklearn.metrics.pairwise import cosine_similarity\r\n",
    "\r\n",
    "from nltk.stem.porter import PorterStemmer\r\n",
    "\r\n",
    "import joblib as jlib"
   ],
   "outputs": [],
   "metadata": {}
  },
  {
   "cell_type": "code",
   "execution_count": 2,
   "source": [
    "# import data\r\n",
    "movies = pd.read_csv(r\"data\\tmdb_5000_movies.csv\")\r\n",
    "credits = pd.read_csv(r\"data\\tmdb_5000_credits.csv\")"
   ],
   "outputs": [],
   "metadata": {}
  },
  {
   "cell_type": "code",
   "execution_count": 3,
   "source": [
    "# explore data\r\n",
    "\r\n",
    "movies.head(5)\r\n",
    "credits.head(5)\r\n",
    "\r\n",
    "# combine datasetes using title\r\n",
    "movies = movies.merge(credits , on='title')"
   ],
   "outputs": [],
   "metadata": {}
  },
  {
   "cell_type": "code",
   "execution_count": 4,
   "source": [
    "# id\r\n",
    "# title\r\n",
    "# genres\r\n",
    "# keywords\r\n",
    "# overview\r\n",
    "# cast \r\n",
    "# crew\r\n",
    "\r\n",
    "movies = movies[['id','title','genres','keywords','overview','cast','crew']]"
   ],
   "outputs": [],
   "metadata": {}
  },
  {
   "cell_type": "code",
   "execution_count": 5,
   "source": [
    "# data cleaning\r\n",
    "movies.isna().sum()\r\n",
    "movies.dropna(inplace = True)"
   ],
   "outputs": [],
   "metadata": {}
  },
  {
   "cell_type": "code",
   "execution_count": 6,
   "source": [
    "# check duplicated values and if any delete them\r\n",
    "movies.duplicated().sum()"
   ],
   "outputs": [
    {
     "output_type": "execute_result",
     "data": {
      "text/plain": [
       "0"
      ]
     },
     "metadata": {},
     "execution_count": 6
    }
   ],
   "metadata": {}
  },
  {
   "cell_type": "code",
   "execution_count": 7,
   "source": [
    "# preprocess data\r\n",
    "def preprocess(obj):\r\n",
    "    obj = ast.literal_eval(obj)\r\n",
    "    proper_list = []\r\n",
    "    for i in obj:\r\n",
    "        proper_list.append(i['name'])\r\n",
    "    return proper_list"
   ],
   "outputs": [],
   "metadata": {}
  },
  {
   "cell_type": "code",
   "execution_count": 8,
   "source": [
    "movies['genres'] = movies['genres'].apply(preprocess)"
   ],
   "outputs": [],
   "metadata": {}
  },
  {
   "cell_type": "code",
   "execution_count": 9,
   "source": [
    "movies['keywords']=movies['keywords'].apply(preprocess)"
   ],
   "outputs": [],
   "metadata": {}
  },
  {
   "cell_type": "code",
   "execution_count": 10,
   "source": [
    "# preprocess cast \r\n",
    "# preprocessing include considering three cast member names\r\n",
    "def preprocessCast(obj):\r\n",
    "    obj = ast.literal_eval(obj)\r\n",
    "    proper_list = []\r\n",
    "    count = 0 \r\n",
    "    for i in obj:\r\n",
    "        if count < 3:\r\n",
    "            proper_list.append(i['name'])\r\n",
    "            count+= 1\r\n",
    "        else:\r\n",
    "            break\r\n",
    "    return proper_list"
   ],
   "outputs": [],
   "metadata": {}
  },
  {
   "cell_type": "code",
   "execution_count": 11,
   "source": [
    "movies['cast'] = movies['cast'].apply(preprocessCast)"
   ],
   "outputs": [],
   "metadata": {}
  },
  {
   "cell_type": "code",
   "execution_count": 12,
   "source": [
    "# preprocess crew\r\n",
    "# preprocessing include considering extraction of director name for the movie\r\n",
    "def preprocessCrew(obj):\r\n",
    "    obj = ast.literal_eval(obj)\r\n",
    "    proper_list = []\r\n",
    "    for i in obj:\r\n",
    "        if(i['job'] == 'Director'):\r\n",
    "            proper_list.append(i['name'])\r\n",
    "            break\r\n",
    "    return proper_list"
   ],
   "outputs": [],
   "metadata": {}
  },
  {
   "cell_type": "code",
   "execution_count": 13,
   "source": [
    "movies['crew'] = movies['crew'].apply(preprocessCrew)"
   ],
   "outputs": [],
   "metadata": {}
  },
  {
   "cell_type": "code",
   "execution_count": 14,
   "source": [
    "movies['overview'] = movies['overview'].apply(lambda x : x.split())"
   ],
   "outputs": [],
   "metadata": {}
  },
  {
   "cell_type": "code",
   "execution_count": 15,
   "source": [
    "# spilit each word \r\n",
    "movies['genres'] = movies['genres'].apply(lambda x:[i.replace(\" \",\"\") for i in x])\r\n",
    "movies['keywords'] = movies['keywords'].apply(lambda x:[i.replace(\" \",\"\") for i in x])\r\n",
    "movies['cast'] = movies['cast'].apply(lambda x:[i.replace(\" \",\"\") for i in x])\r\n",
    "movies['crew'] = movies['crew'].apply(lambda x:[i.replace(\" \",\"\") for i in x])\r\n",
    "movies.head()"
   ],
   "outputs": [
    {
     "output_type": "execute_result",
     "data": {
      "text/plain": [
       "       id                                     title  \\\n",
       "0   19995                                    Avatar   \n",
       "1     285  Pirates of the Caribbean: At World's End   \n",
       "2  206647                                   Spectre   \n",
       "3   49026                     The Dark Knight Rises   \n",
       "4   49529                               John Carter   \n",
       "\n",
       "                                         genres  \\\n",
       "0  [Action, Adventure, Fantasy, ScienceFiction]   \n",
       "1                  [Adventure, Fantasy, Action]   \n",
       "2                    [Action, Adventure, Crime]   \n",
       "3              [Action, Crime, Drama, Thriller]   \n",
       "4           [Action, Adventure, ScienceFiction]   \n",
       "\n",
       "                                            keywords  \\\n",
       "0  [cultureclash, future, spacewar, spacecolony, ...   \n",
       "1  [ocean, drugabuse, exoticisland, eastindiatrad...   \n",
       "2  [spy, basedonnovel, secretagent, sequel, mi6, ...   \n",
       "3  [dccomics, crimefighter, terrorist, secretiden...   \n",
       "4  [basedonnovel, mars, medallion, spacetravel, p...   \n",
       "\n",
       "                                            overview  \\\n",
       "0  [In, the, 22nd, century,, a, paraplegic, Marin...   \n",
       "1  [Captain, Barbossa,, long, believed, to, be, d...   \n",
       "2  [A, cryptic, message, from, Bond’s, past, send...   \n",
       "3  [Following, the, death, of, District, Attorney...   \n",
       "4  [John, Carter, is, a, war-weary,, former, mili...   \n",
       "\n",
       "                                            cast                crew  \n",
       "0  [SamWorthington, ZoeSaldana, SigourneyWeaver]      [JamesCameron]  \n",
       "1     [JohnnyDepp, OrlandoBloom, KeiraKnightley]     [GoreVerbinski]  \n",
       "2      [DanielCraig, ChristophWaltz, LéaSeydoux]         [SamMendes]  \n",
       "3      [ChristianBale, MichaelCaine, GaryOldman]  [ChristopherNolan]  \n",
       "4    [TaylorKitsch, LynnCollins, SamanthaMorton]     [AndrewStanton]  "
      ],
      "text/html": [
       "<div>\n",
       "<style scoped>\n",
       "    .dataframe tbody tr th:only-of-type {\n",
       "        vertical-align: middle;\n",
       "    }\n",
       "\n",
       "    .dataframe tbody tr th {\n",
       "        vertical-align: top;\n",
       "    }\n",
       "\n",
       "    .dataframe thead th {\n",
       "        text-align: right;\n",
       "    }\n",
       "</style>\n",
       "<table border=\"1\" class=\"dataframe\">\n",
       "  <thead>\n",
       "    <tr style=\"text-align: right;\">\n",
       "      <th></th>\n",
       "      <th>id</th>\n",
       "      <th>title</th>\n",
       "      <th>genres</th>\n",
       "      <th>keywords</th>\n",
       "      <th>overview</th>\n",
       "      <th>cast</th>\n",
       "      <th>crew</th>\n",
       "    </tr>\n",
       "  </thead>\n",
       "  <tbody>\n",
       "    <tr>\n",
       "      <th>0</th>\n",
       "      <td>19995</td>\n",
       "      <td>Avatar</td>\n",
       "      <td>[Action, Adventure, Fantasy, ScienceFiction]</td>\n",
       "      <td>[cultureclash, future, spacewar, spacecolony, ...</td>\n",
       "      <td>[In, the, 22nd, century,, a, paraplegic, Marin...</td>\n",
       "      <td>[SamWorthington, ZoeSaldana, SigourneyWeaver]</td>\n",
       "      <td>[JamesCameron]</td>\n",
       "    </tr>\n",
       "    <tr>\n",
       "      <th>1</th>\n",
       "      <td>285</td>\n",
       "      <td>Pirates of the Caribbean: At World's End</td>\n",
       "      <td>[Adventure, Fantasy, Action]</td>\n",
       "      <td>[ocean, drugabuse, exoticisland, eastindiatrad...</td>\n",
       "      <td>[Captain, Barbossa,, long, believed, to, be, d...</td>\n",
       "      <td>[JohnnyDepp, OrlandoBloom, KeiraKnightley]</td>\n",
       "      <td>[GoreVerbinski]</td>\n",
       "    </tr>\n",
       "    <tr>\n",
       "      <th>2</th>\n",
       "      <td>206647</td>\n",
       "      <td>Spectre</td>\n",
       "      <td>[Action, Adventure, Crime]</td>\n",
       "      <td>[spy, basedonnovel, secretagent, sequel, mi6, ...</td>\n",
       "      <td>[A, cryptic, message, from, Bond’s, past, send...</td>\n",
       "      <td>[DanielCraig, ChristophWaltz, LéaSeydoux]</td>\n",
       "      <td>[SamMendes]</td>\n",
       "    </tr>\n",
       "    <tr>\n",
       "      <th>3</th>\n",
       "      <td>49026</td>\n",
       "      <td>The Dark Knight Rises</td>\n",
       "      <td>[Action, Crime, Drama, Thriller]</td>\n",
       "      <td>[dccomics, crimefighter, terrorist, secretiden...</td>\n",
       "      <td>[Following, the, death, of, District, Attorney...</td>\n",
       "      <td>[ChristianBale, MichaelCaine, GaryOldman]</td>\n",
       "      <td>[ChristopherNolan]</td>\n",
       "    </tr>\n",
       "    <tr>\n",
       "      <th>4</th>\n",
       "      <td>49529</td>\n",
       "      <td>John Carter</td>\n",
       "      <td>[Action, Adventure, ScienceFiction]</td>\n",
       "      <td>[basedonnovel, mars, medallion, spacetravel, p...</td>\n",
       "      <td>[John, Carter, is, a, war-weary,, former, mili...</td>\n",
       "      <td>[TaylorKitsch, LynnCollins, SamanthaMorton]</td>\n",
       "      <td>[AndrewStanton]</td>\n",
       "    </tr>\n",
       "  </tbody>\n",
       "</table>\n",
       "</div>"
      ]
     },
     "metadata": {},
     "execution_count": 15
    }
   ],
   "metadata": {}
  },
  {
   "cell_type": "code",
   "execution_count": 16,
   "source": [
    "movies['crew']"
   ],
   "outputs": [
    {
     "output_type": "execute_result",
     "data": {
      "text/plain": [
       "0           [JamesCameron]\n",
       "1          [GoreVerbinski]\n",
       "2              [SamMendes]\n",
       "3       [ChristopherNolan]\n",
       "4          [AndrewStanton]\n",
       "               ...        \n",
       "4804     [RobertRodriguez]\n",
       "4805         [EdwardBurns]\n",
       "4806          [ScottSmith]\n",
       "4807          [DanielHsia]\n",
       "4808     [BrianHerzlinger]\n",
       "Name: crew, Length: 4806, dtype: object"
      ]
     },
     "metadata": {},
     "execution_count": 16
    }
   ],
   "metadata": {}
  },
  {
   "cell_type": "markdown",
   "source": [],
   "metadata": {}
  },
  {
   "cell_type": "code",
   "execution_count": 17,
   "source": [
    "# concatenate overview,genres,keywords,cast and crew \r\n",
    "# so that tags has all the key information about the movie\r\n",
    "movies['tags'] = movies['overview'] + movies['genres'] + movies['keywords'] + movies['cast'] + movies['crew']"
   ],
   "outputs": [],
   "metadata": {}
  },
  {
   "cell_type": "code",
   "execution_count": 18,
   "source": [
    "# initialize a new dataframe\r\n",
    "actual_data = movies[['id','title','tags']]"
   ],
   "outputs": [],
   "metadata": {}
  },
  {
   "cell_type": "code",
   "execution_count": 19,
   "source": [
    "\r\n",
    "actual_data['tags'] = actual_data['tags'].apply(lambda x: \" \".join(x)) "
   ],
   "outputs": [
    {
     "output_type": "stream",
     "name": "stderr",
     "text": [
      "<ipython-input-19-73c7c0880ce3>:1: SettingWithCopyWarning: \n",
      "A value is trying to be set on a copy of a slice from a DataFrame.\n",
      "Try using .loc[row_indexer,col_indexer] = value instead\n",
      "\n",
      "See the caveats in the documentation: https://pandas.pydata.org/pandas-docs/stable/user_guide/indexing.html#returning-a-view-versus-a-copy\n",
      "  actual_data['tags'] = actual_data['tags'].apply(lambda x: \" \".join(x))\n"
     ]
    }
   ],
   "metadata": {}
  },
  {
   "cell_type": "code",
   "execution_count": 20,
   "source": [
    "actual_data['tags'] = actual_data['tags'].apply(lambda x:x.lower())"
   ],
   "outputs": [
    {
     "output_type": "stream",
     "name": "stderr",
     "text": [
      "<ipython-input-20-2e1a4c8cebcf>:1: SettingWithCopyWarning: \n",
      "A value is trying to be set on a copy of a slice from a DataFrame.\n",
      "Try using .loc[row_indexer,col_indexer] = value instead\n",
      "\n",
      "See the caveats in the documentation: https://pandas.pydata.org/pandas-docs/stable/user_guide/indexing.html#returning-a-view-versus-a-copy\n",
      "  actual_data['tags'] = actual_data['tags'].apply(lambda x:x.lower())\n"
     ]
    }
   ],
   "metadata": {}
  },
  {
   "cell_type": "code",
   "execution_count": 21,
   "source": [
    "# PorterStemmer method helps to find dominant word\r\n",
    "# ex : [recommended , recommending ,recommend]\r\n",
    "# on apply porterstemmer on above example gives [recommend,recommend,recommend]\r\n",
    "# which makes sense because the intention of above list of words sums up to \"recommend\"\r\n",
    "ps = PorterStemmer()"
   ],
   "outputs": [],
   "metadata": {}
  },
  {
   "cell_type": "code",
   "execution_count": 22,
   "source": [
    "def stem(text):\r\n",
    "    l = []\r\n",
    "\r\n",
    "    for i in text.split():\r\n",
    "        l.append(ps.stem(i))\r\n",
    "\r\n",
    "    return \" \".join(l)\r\n",
    "\r\n",
    "actual_data['tags'] = actual_data['tags'].apply(stem)"
   ],
   "outputs": [
    {
     "output_type": "stream",
     "name": "stderr",
     "text": [
      "<ipython-input-22-dbf757fd30a8>:9: SettingWithCopyWarning: \n",
      "A value is trying to be set on a copy of a slice from a DataFrame.\n",
      "Try using .loc[row_indexer,col_indexer] = value instead\n",
      "\n",
      "See the caveats in the documentation: https://pandas.pydata.org/pandas-docs/stable/user_guide/indexing.html#returning-a-view-versus-a-copy\n",
      "  actual_data['tags'] = actual_data['tags'].apply(stem)\n"
     ]
    }
   ],
   "metadata": {}
  },
  {
   "cell_type": "code",
   "execution_count": 23,
   "source": [
    "# Finding similarity between movies can be done by finding cosine similarity\r\n",
    "# inorder to find cosine similarity the features should be represented \r\n",
    "# in the form of vectors. CountVectorizer method converts in the form of vectors\r\n",
    "# This process is called Vectorization\r\n",
    "cv = CountVectorizer(max_features= 5000,stop_words='english')"
   ],
   "outputs": [],
   "metadata": {}
  },
  {
   "cell_type": "code",
   "execution_count": 24,
   "source": [
    "# transformation of tags into vectors\r\n",
    "tags_vectors = cv.fit_transform(actual_data['tags']).toarray()"
   ],
   "outputs": [],
   "metadata": {}
  },
  {
   "cell_type": "code",
   "execution_count": 25,
   "source": [
    "# calculate cosine similarity between vectors\r\n",
    "cos_sim = cosine_similarity(tags_vectors)"
   ],
   "outputs": [],
   "metadata": {}
  },
  {
   "cell_type": "code",
   "execution_count": 26,
   "source": [
    "cos_sim = pd.DataFrame(cos_sim)\r\n",
    "cos_sim"
   ],
   "outputs": [
    {
     "output_type": "execute_result",
     "data": {
      "text/plain": [
       "          0         1         2         3         4         5         6     \\\n",
       "0     1.000000  0.083462  0.086031  0.073472  0.189299  0.108389  0.040242   \n",
       "1     0.083462  1.000000  0.060634  0.038837  0.075047  0.114587  0.021272   \n",
       "2     0.086031  0.060634  1.000000  0.060048  0.077357  0.070868  0.021926   \n",
       "3     0.073472  0.038837  0.060048  1.000000  0.033032  0.060523  0.056177   \n",
       "4     0.189299  0.075047  0.077357  0.033032  1.000000  0.097460  0.054277   \n",
       "...        ...       ...       ...       ...       ...       ...       ...   \n",
       "4801  0.019252  0.040706  0.041959  0.067188  0.155799  0.079295  0.029440   \n",
       "4802  0.046829  0.000000  0.000000  0.000000  0.000000  0.000000  0.000000   \n",
       "4803  0.044992  0.023783  0.024515  0.031404  0.020228  0.018531  0.000000   \n",
       "4804  0.000000  0.000000  0.000000  0.048526  0.083351  0.057270  0.035438   \n",
       "4805  0.000000  0.026153  0.000000  0.086335  0.044488  0.040757  0.000000   \n",
       "\n",
       "          7         8         9     ...      4796      4797      4798  \\\n",
       "0     0.146735  0.059235  0.096730  ...  0.000000  0.000000  0.042239   \n",
       "1     0.129272  0.062622  0.102262  ...  0.000000  0.000000  0.022327   \n",
       "2     0.133250  0.064550  0.105409  ...  0.085749  0.000000  0.000000   \n",
       "3     0.068279  0.041345  0.202548  ...  0.027462  0.027462  0.058964   \n",
       "4     0.197910  0.079894  0.108721  ...  0.035377  0.000000  0.075960   \n",
       "...        ...       ...       ...  ...       ...       ...       ...   \n",
       "4801  0.143131  0.130005  0.035383  ...  0.000000  0.057567  0.139055   \n",
       "4802  0.000000  0.000000  0.000000  ...  0.000000  0.070014  0.000000   \n",
       "4803  0.000000  0.050637  0.020672  ...  0.067267  0.033634  0.018054   \n",
       "4804  0.043073  0.104328  0.021296  ...  0.000000  0.034648  0.092992   \n",
       "4805  0.045980  0.111369  0.022733  ...  0.000000  0.000000  0.039707   \n",
       "\n",
       "          4799      4800      4801      4802      4803      4804      4805  \n",
       "0     0.052632  0.000000  0.019252  0.046829  0.044992  0.000000  0.000000  \n",
       "1     0.027821  0.000000  0.040706  0.000000  0.023783  0.000000  0.026153  \n",
       "2     0.000000  0.017590  0.041959  0.000000  0.024515  0.000000  0.000000  \n",
       "3     0.055104  0.022533  0.067188  0.000000  0.031404  0.048526  0.086335  \n",
       "4     0.023662  0.145141  0.155799  0.000000  0.020228  0.083351  0.044488  \n",
       "...        ...       ...       ...       ...       ...       ...       ...  \n",
       "4801  0.057756  0.259796  1.000000  0.000000  0.000000  0.152586  0.126688  \n",
       "4802  0.000000  0.028724  0.000000  1.000000  0.120096  0.000000  0.000000  \n",
       "4803  0.044992  0.013799  0.000000  0.120096  1.000000  0.039621  0.042295  \n",
       "4804  0.000000  0.142148  0.152586  0.000000  0.039621  1.000000  0.087142  \n",
       "4805  0.024739  0.075871  0.126688  0.000000  0.042295  0.087142  1.000000  \n",
       "\n",
       "[4806 rows x 4806 columns]"
      ],
      "text/html": [
       "<div>\n",
       "<style scoped>\n",
       "    .dataframe tbody tr th:only-of-type {\n",
       "        vertical-align: middle;\n",
       "    }\n",
       "\n",
       "    .dataframe tbody tr th {\n",
       "        vertical-align: top;\n",
       "    }\n",
       "\n",
       "    .dataframe thead th {\n",
       "        text-align: right;\n",
       "    }\n",
       "</style>\n",
       "<table border=\"1\" class=\"dataframe\">\n",
       "  <thead>\n",
       "    <tr style=\"text-align: right;\">\n",
       "      <th></th>\n",
       "      <th>0</th>\n",
       "      <th>1</th>\n",
       "      <th>2</th>\n",
       "      <th>3</th>\n",
       "      <th>4</th>\n",
       "      <th>5</th>\n",
       "      <th>6</th>\n",
       "      <th>7</th>\n",
       "      <th>8</th>\n",
       "      <th>9</th>\n",
       "      <th>...</th>\n",
       "      <th>4796</th>\n",
       "      <th>4797</th>\n",
       "      <th>4798</th>\n",
       "      <th>4799</th>\n",
       "      <th>4800</th>\n",
       "      <th>4801</th>\n",
       "      <th>4802</th>\n",
       "      <th>4803</th>\n",
       "      <th>4804</th>\n",
       "      <th>4805</th>\n",
       "    </tr>\n",
       "  </thead>\n",
       "  <tbody>\n",
       "    <tr>\n",
       "      <th>0</th>\n",
       "      <td>1.000000</td>\n",
       "      <td>0.083462</td>\n",
       "      <td>0.086031</td>\n",
       "      <td>0.073472</td>\n",
       "      <td>0.189299</td>\n",
       "      <td>0.108389</td>\n",
       "      <td>0.040242</td>\n",
       "      <td>0.146735</td>\n",
       "      <td>0.059235</td>\n",
       "      <td>0.096730</td>\n",
       "      <td>...</td>\n",
       "      <td>0.000000</td>\n",
       "      <td>0.000000</td>\n",
       "      <td>0.042239</td>\n",
       "      <td>0.052632</td>\n",
       "      <td>0.000000</td>\n",
       "      <td>0.019252</td>\n",
       "      <td>0.046829</td>\n",
       "      <td>0.044992</td>\n",
       "      <td>0.000000</td>\n",
       "      <td>0.000000</td>\n",
       "    </tr>\n",
       "    <tr>\n",
       "      <th>1</th>\n",
       "      <td>0.083462</td>\n",
       "      <td>1.000000</td>\n",
       "      <td>0.060634</td>\n",
       "      <td>0.038837</td>\n",
       "      <td>0.075047</td>\n",
       "      <td>0.114587</td>\n",
       "      <td>0.021272</td>\n",
       "      <td>0.129272</td>\n",
       "      <td>0.062622</td>\n",
       "      <td>0.102262</td>\n",
       "      <td>...</td>\n",
       "      <td>0.000000</td>\n",
       "      <td>0.000000</td>\n",
       "      <td>0.022327</td>\n",
       "      <td>0.027821</td>\n",
       "      <td>0.000000</td>\n",
       "      <td>0.040706</td>\n",
       "      <td>0.000000</td>\n",
       "      <td>0.023783</td>\n",
       "      <td>0.000000</td>\n",
       "      <td>0.026153</td>\n",
       "    </tr>\n",
       "    <tr>\n",
       "      <th>2</th>\n",
       "      <td>0.086031</td>\n",
       "      <td>0.060634</td>\n",
       "      <td>1.000000</td>\n",
       "      <td>0.060048</td>\n",
       "      <td>0.077357</td>\n",
       "      <td>0.070868</td>\n",
       "      <td>0.021926</td>\n",
       "      <td>0.133250</td>\n",
       "      <td>0.064550</td>\n",
       "      <td>0.105409</td>\n",
       "      <td>...</td>\n",
       "      <td>0.085749</td>\n",
       "      <td>0.000000</td>\n",
       "      <td>0.000000</td>\n",
       "      <td>0.000000</td>\n",
       "      <td>0.017590</td>\n",
       "      <td>0.041959</td>\n",
       "      <td>0.000000</td>\n",
       "      <td>0.024515</td>\n",
       "      <td>0.000000</td>\n",
       "      <td>0.000000</td>\n",
       "    </tr>\n",
       "    <tr>\n",
       "      <th>3</th>\n",
       "      <td>0.073472</td>\n",
       "      <td>0.038837</td>\n",
       "      <td>0.060048</td>\n",
       "      <td>1.000000</td>\n",
       "      <td>0.033032</td>\n",
       "      <td>0.060523</td>\n",
       "      <td>0.056177</td>\n",
       "      <td>0.068279</td>\n",
       "      <td>0.041345</td>\n",
       "      <td>0.202548</td>\n",
       "      <td>...</td>\n",
       "      <td>0.027462</td>\n",
       "      <td>0.027462</td>\n",
       "      <td>0.058964</td>\n",
       "      <td>0.055104</td>\n",
       "      <td>0.022533</td>\n",
       "      <td>0.067188</td>\n",
       "      <td>0.000000</td>\n",
       "      <td>0.031404</td>\n",
       "      <td>0.048526</td>\n",
       "      <td>0.086335</td>\n",
       "    </tr>\n",
       "    <tr>\n",
       "      <th>4</th>\n",
       "      <td>0.189299</td>\n",
       "      <td>0.075047</td>\n",
       "      <td>0.077357</td>\n",
       "      <td>0.033032</td>\n",
       "      <td>1.000000</td>\n",
       "      <td>0.097460</td>\n",
       "      <td>0.054277</td>\n",
       "      <td>0.197910</td>\n",
       "      <td>0.079894</td>\n",
       "      <td>0.108721</td>\n",
       "      <td>...</td>\n",
       "      <td>0.035377</td>\n",
       "      <td>0.000000</td>\n",
       "      <td>0.075960</td>\n",
       "      <td>0.023662</td>\n",
       "      <td>0.145141</td>\n",
       "      <td>0.155799</td>\n",
       "      <td>0.000000</td>\n",
       "      <td>0.020228</td>\n",
       "      <td>0.083351</td>\n",
       "      <td>0.044488</td>\n",
       "    </tr>\n",
       "    <tr>\n",
       "      <th>...</th>\n",
       "      <td>...</td>\n",
       "      <td>...</td>\n",
       "      <td>...</td>\n",
       "      <td>...</td>\n",
       "      <td>...</td>\n",
       "      <td>...</td>\n",
       "      <td>...</td>\n",
       "      <td>...</td>\n",
       "      <td>...</td>\n",
       "      <td>...</td>\n",
       "      <td>...</td>\n",
       "      <td>...</td>\n",
       "      <td>...</td>\n",
       "      <td>...</td>\n",
       "      <td>...</td>\n",
       "      <td>...</td>\n",
       "      <td>...</td>\n",
       "      <td>...</td>\n",
       "      <td>...</td>\n",
       "      <td>...</td>\n",
       "      <td>...</td>\n",
       "    </tr>\n",
       "    <tr>\n",
       "      <th>4801</th>\n",
       "      <td>0.019252</td>\n",
       "      <td>0.040706</td>\n",
       "      <td>0.041959</td>\n",
       "      <td>0.067188</td>\n",
       "      <td>0.155799</td>\n",
       "      <td>0.079295</td>\n",
       "      <td>0.029440</td>\n",
       "      <td>0.143131</td>\n",
       "      <td>0.130005</td>\n",
       "      <td>0.035383</td>\n",
       "      <td>...</td>\n",
       "      <td>0.000000</td>\n",
       "      <td>0.057567</td>\n",
       "      <td>0.139055</td>\n",
       "      <td>0.057756</td>\n",
       "      <td>0.259796</td>\n",
       "      <td>1.000000</td>\n",
       "      <td>0.000000</td>\n",
       "      <td>0.000000</td>\n",
       "      <td>0.152586</td>\n",
       "      <td>0.126688</td>\n",
       "    </tr>\n",
       "    <tr>\n",
       "      <th>4802</th>\n",
       "      <td>0.046829</td>\n",
       "      <td>0.000000</td>\n",
       "      <td>0.000000</td>\n",
       "      <td>0.000000</td>\n",
       "      <td>0.000000</td>\n",
       "      <td>0.000000</td>\n",
       "      <td>0.000000</td>\n",
       "      <td>0.000000</td>\n",
       "      <td>0.000000</td>\n",
       "      <td>0.000000</td>\n",
       "      <td>...</td>\n",
       "      <td>0.000000</td>\n",
       "      <td>0.070014</td>\n",
       "      <td>0.000000</td>\n",
       "      <td>0.000000</td>\n",
       "      <td>0.028724</td>\n",
       "      <td>0.000000</td>\n",
       "      <td>1.000000</td>\n",
       "      <td>0.120096</td>\n",
       "      <td>0.000000</td>\n",
       "      <td>0.000000</td>\n",
       "    </tr>\n",
       "    <tr>\n",
       "      <th>4803</th>\n",
       "      <td>0.044992</td>\n",
       "      <td>0.023783</td>\n",
       "      <td>0.024515</td>\n",
       "      <td>0.031404</td>\n",
       "      <td>0.020228</td>\n",
       "      <td>0.018531</td>\n",
       "      <td>0.000000</td>\n",
       "      <td>0.000000</td>\n",
       "      <td>0.050637</td>\n",
       "      <td>0.020672</td>\n",
       "      <td>...</td>\n",
       "      <td>0.067267</td>\n",
       "      <td>0.033634</td>\n",
       "      <td>0.018054</td>\n",
       "      <td>0.044992</td>\n",
       "      <td>0.013799</td>\n",
       "      <td>0.000000</td>\n",
       "      <td>0.120096</td>\n",
       "      <td>1.000000</td>\n",
       "      <td>0.039621</td>\n",
       "      <td>0.042295</td>\n",
       "    </tr>\n",
       "    <tr>\n",
       "      <th>4804</th>\n",
       "      <td>0.000000</td>\n",
       "      <td>0.000000</td>\n",
       "      <td>0.000000</td>\n",
       "      <td>0.048526</td>\n",
       "      <td>0.083351</td>\n",
       "      <td>0.057270</td>\n",
       "      <td>0.035438</td>\n",
       "      <td>0.043073</td>\n",
       "      <td>0.104328</td>\n",
       "      <td>0.021296</td>\n",
       "      <td>...</td>\n",
       "      <td>0.000000</td>\n",
       "      <td>0.034648</td>\n",
       "      <td>0.092992</td>\n",
       "      <td>0.000000</td>\n",
       "      <td>0.142148</td>\n",
       "      <td>0.152586</td>\n",
       "      <td>0.000000</td>\n",
       "      <td>0.039621</td>\n",
       "      <td>1.000000</td>\n",
       "      <td>0.087142</td>\n",
       "    </tr>\n",
       "    <tr>\n",
       "      <th>4805</th>\n",
       "      <td>0.000000</td>\n",
       "      <td>0.026153</td>\n",
       "      <td>0.000000</td>\n",
       "      <td>0.086335</td>\n",
       "      <td>0.044488</td>\n",
       "      <td>0.040757</td>\n",
       "      <td>0.000000</td>\n",
       "      <td>0.045980</td>\n",
       "      <td>0.111369</td>\n",
       "      <td>0.022733</td>\n",
       "      <td>...</td>\n",
       "      <td>0.000000</td>\n",
       "      <td>0.000000</td>\n",
       "      <td>0.039707</td>\n",
       "      <td>0.024739</td>\n",
       "      <td>0.075871</td>\n",
       "      <td>0.126688</td>\n",
       "      <td>0.000000</td>\n",
       "      <td>0.042295</td>\n",
       "      <td>0.087142</td>\n",
       "      <td>1.000000</td>\n",
       "    </tr>\n",
       "  </tbody>\n",
       "</table>\n",
       "<p>4806 rows × 4806 columns</p>\n",
       "</div>"
      ]
     },
     "metadata": {},
     "execution_count": 26
    }
   ],
   "metadata": {}
  },
  {
   "cell_type": "code",
   "execution_count": 27,
   "source": [
    "# Pickle movies details and movie similarity \r\n",
    "jlib.dump(actual_data,\"movies.csv\")\r\n",
    "jlib.dump(cos_sim,\"similarity.csv\")"
   ],
   "outputs": [
    {
     "output_type": "execute_result",
     "data": {
      "text/plain": [
       "['similarity.csv']"
      ]
     },
     "metadata": {},
     "execution_count": 27
    }
   ],
   "metadata": {}
  },
  {
   "cell_type": "code",
   "execution_count": 7,
   "source": [
    "import joblib as jlib\r\n",
    "\r\n"
   ],
   "outputs": [
    {
     "output_type": "error",
     "ename": "ModuleNotFoundError",
     "evalue": "No module named 'joblib'",
     "traceback": [
      "\u001b[1;31m---------------------------------------------------------------------------\u001b[0m",
      "\u001b[1;31mModuleNotFoundError\u001b[0m                       Traceback (most recent call last)",
      "\u001b[1;32m~\\AppData\\Local\\Temp/ipykernel_6348/3598325789.py\u001b[0m in \u001b[0;36m<module>\u001b[1;34m\u001b[0m\n\u001b[1;32m----> 1\u001b[1;33m \u001b[1;32mimport\u001b[0m \u001b[0mjoblib\u001b[0m \u001b[1;32mas\u001b[0m \u001b[0mjlib\u001b[0m\u001b[1;33m\u001b[0m\u001b[1;33m\u001b[0m\u001b[0m\n\u001b[0m\u001b[0;32m      2\u001b[0m \u001b[1;33m\u001b[0m\u001b[0m\n",
      "\u001b[1;31mModuleNotFoundError\u001b[0m: No module named 'joblib'"
     ]
    }
   ],
   "metadata": {}
  },
  {
   "cell_type": "code",
   "execution_count": null,
   "source": [],
   "outputs": [],
   "metadata": {}
  }
 ],
 "metadata": {
  "kernelspec": {
   "display_name": "Python 3",
   "language": "python",
   "name": "python3"
  },
  "language_info": {
   "codemirror_mode": {
    "name": "ipython",
    "version": 3
   },
   "file_extension": ".py",
   "mimetype": "text/x-python",
   "name": "python",
   "nbconvert_exporter": "python",
   "pygments_lexer": "ipython3",
   "version": "3.8.5"
  }
 },
 "nbformat": 4,
 "nbformat_minor": 2
}